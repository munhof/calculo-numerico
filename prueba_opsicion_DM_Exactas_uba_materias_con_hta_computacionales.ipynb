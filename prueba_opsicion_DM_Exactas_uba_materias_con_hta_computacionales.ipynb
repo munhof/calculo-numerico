{
 "cells": [
  {
   "cell_type": "markdown",
   "id": "6d567570-6523-45e5-8b91-066797b989eb",
   "metadata": {
    "id": "6d567570-6523-45e5-8b91-066797b989eb"
   },
   "source": [
    "# Ejercicio 1\n",
    "# Normas matriciales.\n",
    "Se quiere estimar la norma 2 de una matriz $A \\in \\mathbb{R}^{3x3}$ como el máximo del valor $\\frac{∥Ax∥_2}{∥x∥_2}$ entre varios vectores $x\\in\\mathbb{R}^3$ no nulos generadosal azar. Hacer un programa que reciba una matriz A y luego:\n",
    "\n",
    "* genere los primeros 100 términos de la siguiente sucesión:\n",
    "\\begin{equation}\n",
    "s1 = 0, sk+1 = max \\{sk, \\frac{∥Ax_k∥_2}{∥x_k∥_2}\\}\n",
    "\\end{equation}\n",
    "donde los $x_k\\in\\mathbb{R}^3$ son vectores no nulos generados al azar en la bola unitaria:\n",
    "$B = {x : ∥x∥_2 ≤ 1}$.\n",
    "\n",
    "* Grafique la sucesión calculada, junto con el valor exacto de la norma de la matriz.\n",
    "\n",
    "Recordar que la norma 2 de un vector v puede calcularse con el comando `np.linalg.norm(v)`, mientras que la norma 2 de una matriz A se puede obtener con `np.linalg.norm(A,2)`. Tener en cuenta que los vectores generados al azar (comando `np.random.random`) tienen coordenadas en el intervalo [0, 1] y por lo tanto abarcan sólo el primer octante en $\\mathbb{R}^3$"
   ]
  },
  {
   "cell_type": "code",
   "execution_count": null,
   "id": "295fb7ef-78a3-4dce-a0e6-688d41ea6203",
   "metadata": {
    "id": "295fb7ef-78a3-4dce-a0e6-688d41ea6203",
    "outputId": "288ecc7d-f53e-4cad-94dc-12f4c69a3fce"
   },
   "outputs": [
    {
     "data": {
      "image/png": "[encoded data removed]",
      "text/plain": [
       "<Figure size 640x480 with 1 Axes>"
      ]
     },
     "metadata": {},
     "output_type": "display_data"
    }
   ],
   "source": [
    "\"\"\"\n",
    "Lo primero es importar las librerias que necesitaremos\n",
    "numnpy para el trabajo matematico\n",
    "matplotlib.pyplot para los graficos\n",
    "\"\"\"\n",
    "\n",
    "import numpy as np\n",
    "import matplotlib.pyplot as plt\n",
    "\n",
    "plt.style.use('_mpl-gallery')\n",
    "\n",
    "#lo primero es armar la matriz A, para ello configuramos sus filas de largo 3\n",
    "fila1: list[int] = [1,2,3]\n",
    "fila2: list[int] = [1,1,3]\n",
    "fila3: list[int] = [1,2,1]\n",
    "\n",
    "#y armamos la matriz utilizando np.array()\n",
    "\n",
    "matriz: list[list[int]] = np.array([fila1,fila2,fila3])\n",
    "\n",
    "#como vamos a armar una sucesion de valores, vamos a utilizar un ciclo for, para ello vamos a inicializar\n",
    "#la variable donde vamos a guardar los valores de la sucesion s y tambien crear variable n una con el valor de\n",
    "#cuantos terminos debe tener la sucesion, que en este caso es 100\n",
    "\n",
    "n: int = 100\n",
    "s: list[int] = [0]*n\n",
    "#la variable s estan incializada con 0 para agilizar el guardado de datos de pyhton, esta manera de escribir crea n veces el valor indicado en la lista\n",
    "#recomendacion, probar que pasa si hacen [1,2]*10\n",
    "\n",
    "#una vez inicializado los variables necesarias para nuestro ciclo for, vamos a empezar a trabajar con el\n",
    "\n",
    "for i in range(1,n): #inicio desde el termino 1 de la sucesion porque el primero es 0\n",
    "    xk: list[float] = np.random.random(3) #genero mi vector random, para indicar la dimension del vector se lo paso como parametro\n",
    "    Axk: list[float] = matriz @ xk #hago el producto vectorial de A*xk\n",
    "    norm_2_xk: float = np.linalg.norm(xk,2) #calculo la norma del vecto xk\n",
    "    norm_2_Axk: float = np.linalg.norm(Axk,2) #calculo la norma de A*^xk\n",
    "    s[i] = max([s[i-1],norm_2_Axk/norm_2_xk]) #agrego al termino i+1 el valor maximo entre el termino i y el calculo\n",
    "\n",
    "#con la sucesion calculada, hagamos los graficos, para ello usamos matplotlib\n",
    "\n",
    "fig, ax = plt.subplots(figsize=(8, 6), dpi=80) #incializo el grafico con subplots, sirve para cuando quiero crear varios graficos en una misma imagen\n",
    "ax.grid() #agrego grillas\n",
    "ax.scatter(x= range(0,100), y= s, s=10) #la paso los datos, al pasarle una sola lista, en el eje x pondra el valor del termino de la sucesion y en el y el valor de la sucesion\n",
    "ax.set_xticks(np.arange(0, 100, 10))\n",
    "\n",
    "plt.show()"
   ]
  },
  {
   "cell_type": "markdown",
   "id": "pPSlI6BTbGxW",
   "metadata": {
    "id": "pPSlI6BTbGxW"
   },
   "source": [
    "# Ejercicio 2\n",
    "\n",
    "## Resolución de ecuaciones.\n",
    "\n",
    "(a) Escribir un programa que implemente el método de Jacobi para la resolución\n",
    "de un sistema lineal Ax = b, con las siguientes condiciones:\n",
    "* que al inicio calcule el radio espectral del método y que termine si es mayor\n",
    "o igual a 1,\n",
    "* que finalice si el método se estaciona,\n",
    "* que finalice si se excede cierto tope de iteraciones.\n",
    "\n",
    "(b) Testear el programa desarrollado en el item anterior para los sistemas\n",
    "\n",
    "\\begin{equation*}\n",
    "\\begin{pmatrix}\n",
    "3 & 1 & 1 \\\\\n",
    "2 & 6 & 1 \\\\\n",
    "1 & 1 & 4\n",
    "\\end{pmatrix}\n",
    "\\begin{pmatrix}\n",
    "x_1\\\\\n",
    "x_2\\\\\n",
    "x_3\n",
    "\\end{pmatrix}\n",
    " =\n",
    "\\begin{pmatrix}\n",
    "5\\\\\n",
    "9\\\\\n",
    "6\n",
    "\\end{pmatrix}\n",
    "\\end{equation*}\n",
    "\n",
    "\\begin{equation*}\n",
    "\\begin{pmatrix}\n",
    "5 & 7 & 6 & 5\\\\\n",
    "7 & 10 & 8 & 7\\\\\n",
    "6 & 8 & 10 & 9\\\\\n",
    "5 & 7 & 9 &10\n",
    "\\end{pmatrix}\n",
    "\\begin{pmatrix}\n",
    "x1\\\\\n",
    "x2\\\\\n",
    "x3\\\\\n",
    "x4\n",
    "\\end{pmatrix}\n",
    " =\n",
    "\\begin{pmatrix}\n",
    "23\\\\\n",
    "32\\\\\n",
    "33\\\\\n",
    "31\n",
    "\\end{pmatrix}\n",
    "\\end{equation*}\n",
    "y analizar los resultados.\n"
   ]
  },
  {
   "cell_type": "markdown",
   "id": "TQuCcCoccZdT",
   "metadata": {
    "id": "TQuCcCoccZdT"
   },
   "source": [
    "## Resolucion a)\n",
    "Lo primero es recordar en que consiste el metodo de Jacobi. Este metodo es una forma iteractiva de resolver ecuaciones de la forma $Ax = b$. Donde A es una matriz, x son las incognitas del sitema y b un vector.\n",
    "\n",
    "Para este metodo se descompone la matriz $A$ de la siguiente manera $$A = D + R$$ donde $D$ es la matriz de la diaognal de $A$ y $R = A - D$. Luego $Ax = b ⟺ (D+R)x = b$ Luego si despejamos la \"x\" nos queda que\n",
    "\n",
    "$$x = D^{-1}(b - Rx)$$\n",
    "\n",
    "Luego podemos armar el metodo iteractivo de la forma:\n",
    "\n",
    "$$x^{k+1} = D^{-1}(b - Rx^{k}) = D^{-1}b - (D^{-1}R)x^{k}$$\n",
    "\n",
    "Para todo k>0 y x⁰ es un vector aproximado a la solucion.\n",
    "\n",
    "Luego para que el metodo converga, es necesario que lo haga  $(D^{-1}R)x^{k}$ luego esto pasa Sii\n",
    "\n",
    "$$ρ(D^{-1}R)<1$$\n",
    "\n",
    "Ademas como parametro de control vamos a definir el vector resto $r$ como\n",
    "$$r^{k+1} = b - A*x^{k} $$\n",
    "\n",
    "Y por otro lado vamos a comparar el estancamiento"
   ]
  },
  {
   "cell_type": "code",
   "execution_count": 31,
   "id": "76421f3d-1f91-4df3-a3ef-15bf2938578d",
   "metadata": {
    "colab": {
     "base_uri": "https://localhost:8080/"
    },
    "id": "76421f3d-1f91-4df3-a3ef-15bf2938578d",
    "outputId": "d0f9d74c-ea0e-4c7f-a402-c0df1c66c14e"
   },
   "outputs": [
    {
     "name": "stdout",
     "output_type": "stream",
     "text": [
      "La solucion del metodo es x = [1.00000846 1.00000715 1.000007  ]\n",
      "La matriz del metodo tiene radio espectral mayor a 1\n",
      "No converge con este metodo\n",
      "x = [0.5 0.5 0.5 0.5]\n"
     ]
    }
   ],
   "source": [
    "import numpy as np\n",
    "\n",
    "#Lo primero es descomponer la matriz de la manera que necesitamos, es decir A = D + R\n",
    "def descomposicionDR(matriz):\n",
    "    n,m = matriz.shape\n",
    "    R = matriz.copy()\n",
    "    D = matriz.copy()\n",
    "    for i in range(n):\n",
    "        for j in range(m):\n",
    "            if i != j :\n",
    "                D[i,j] = 0\n",
    "    R = R - D\n",
    "    return D,R\n",
    "\n",
    "#Luego calculamos para todas las matrices, la matriz del metodo J = D^-1*R\n",
    "def matrizJacobi(matriz):\n",
    "    D,R = descomposicionDR(matriz)\n",
    "    invD = np.linalg.inv(D)\n",
    "    jacobi = invD @ R\n",
    "    return jacobi\n",
    "    \n",
    "#Generamos una funcion que calcula el radio espectral del metodo\n",
    "def radioEspectralDelMetodo(matriz):\n",
    "    metodo = matrizJacobi(matriz)\n",
    "    aval = np.linalg.eigvals(metodo)\n",
    "    absaval = abs(aval)\n",
    "    rho =  max(absaval)\n",
    "    return rho\n",
    "\n",
    "#Calculamos el metodo, pasamos los paramateros matriz A, el vector b, una aproximacion del x0, y como parametros opcionales \n",
    "#e como el error de aproximacion y n como la cantidad de iteraciones\n",
    "def jacobi(matriz,b,x0,e=1e-5,n=1000):\n",
    "    res = 0\n",
    "    radioEspectral = radioEspectralDelMetodo(matriz)\n",
    "    A = matriz.copy()\n",
    "    if radioEspectral < 1: \n",
    "        sucesion = [x0]\n",
    "        jacobi = matrizJacobi(A)\n",
    "        D, _ = descomposicionDR(matriz)\n",
    "        invD = np.linalg.inv(D)\n",
    "        i = 1\n",
    "        resto = np.linalg.norm(b - A @ sucesion[i-1],2)\n",
    "        while i < n and resto >= e :\n",
    "            xi = invD @ b - jacobi @ sucesion[i-1]\n",
    "            sucesion.append(xi)\n",
    "            i = i + 1\n",
    "            resto = np.linalg.norm(b - A @ sucesion[i-1],2)\n",
    "            if resto < e:\n",
    "                res = print(f\"La solucion del metodo es x = {sucesion[-1]}\")\n",
    "            if i+1 > n:\n",
    "                res = print(f\"El metodo excedio el numero de iteracciones \\n x = {sucesion[-1]}\")\n",
    "    else:\n",
    "        res = print(f\"La matriz del metodo tiene radio espectral mayor a 1\"'\\n'\"No converge con este metodo\" '\\n'f\"x = {x0}\")\n",
    "    return res\n",
    "\n",
    "matriz = np.array([[3,1,1],\n",
    "                   [2,6,1],\n",
    "                   [1,1,4]]\n",
    ")\n",
    "b = np.array([5,9,6])\n",
    "x0 = np.array([0.5,0.5,0.5])\n",
    "\n",
    "jacobi(matriz,b,x0,e=1e-4,n=500)\n",
    "\n",
    "matriz = np.array([[5,6,7,5 ],\n",
    "                   [6,10,8,7],\n",
    "                   [7,8,10,9],\n",
    "                   [5,7,9,10]]\n",
    ")\n",
    "b = np.array([23,32,33,31])\n",
    "x0 = np.array([0.5,0.5,0.5,0.5])\n",
    "\n",
    "jacobi(matriz,b,x0,e=1e-4,n=500)"
   ]
  },
  {
   "cell_type": "markdown",
   "id": "e42215f2-dfb2-4a5c-a592-5bae9bf86aca",
   "metadata": {},
   "source": [
    "# Ejercicio 2\n",
    "## Resolución de ecuaciones.\r\n",
    "(a) Implementar un programa que reciba como input una función f, su derivada\r\n",
    "\r",
    "′\r\n",
    ", un punto inicial x0, una tolerancia ε y un entero N y aplique el método de\r\n",
    "Newton-Raphson para buscar una raíz de f a partir de x0. El programa debe\r\n",
    "finalizar cuando |xn − xn−1| < ε o cuando llega al paso N. Si no se alcanza la\r\n",
    "convergencia luego de N pasos, imprimir un mensaje de error\n",
    " "
   ]
  },
  {
   "cell_type": "markdown",
   "id": "6b727d92-6231-46f2-9cc8-aa25b9ff3d65",
   "metadata": {},
   "source": [
    "## resolucion\n",
    "\n",
    "Para resolver este ejercicio, necesitamos recordar el metodo de Newton-Rhapson, este metodo permite encontrar raices de las funciones $f:[a,b] \\rightarrow \\mathbb{R}$ tal que $f$ sea derivable, el metodo queda en que:\n",
    "\n",
    "\\begin{equation*}\n",
    "x_{n+1} = x_n - \\frac{f(x_n)}{f'(x_n)}\n",
    "\\end{equation*}\n",
    "\n",
    "luego es necesrio que $f'(x_n)$ no se anule en $[a,b]$\n"
   ]
  },
  {
   "cell_type": "code",
   "execution_count": 53,
   "id": "b4dde463-bdc4-4c7c-9ee2-0f7411eb2047",
   "metadata": {},
   "outputs": [
    {
     "name": "stdout",
     "output_type": "stream",
     "text": [
      "La raiz mas cercana de x0 = 1 de f(x) es r = 1.0472941306927679\n"
     ]
    }
   ],
   "source": [
    "#para este ejercicio, no utilizaremos ninguna lbreria\n",
    "#empezamos inicializando las variables que utilizaremos\n",
    "\n",
    "N = 100 #la cantidad de iteracciones del programa\n",
    "eps = 0.0001 #el error del metodo esperado\n",
    "x0 = 1 #el valor de x0 donde inciamos el metodo\n",
    "\n",
    "#para definir las funciones que buscaremos las raices utilizaremos las lambda function, que son mas sencillas de escribir\n",
    "\n",
    "f = lambda x : x**15 - 2  #definimos f\n",
    "df = lambda x : 15*x**14 # definimos f'\n",
    "\n",
    "anterior = x0\n",
    "res = anterior - f(anterior) / df(anterior)\n",
    "i = 1 #inicializamos el contador\n",
    "resto = abs(res - anterior)\n",
    "\n",
    "while i < N and abs(resto) > eps: #inciamos el ciclo con la condicion del conteo y del error\n",
    "    anterior = res\n",
    "    res = anterior - f(anterior) / df(anterior) #calculamos el siguiente paso\n",
    "    resto = abs(res - anterior)\n",
    "    i = i + 1\n",
    "\n",
    "#genemos el mensaje de error segun la razon de porque termino el ciclo\n",
    "#si excedio el numero de iteracciones o si no\n",
    "if i > N and abs(resto) >= eps:\n",
    "    print(\"Error, se excedio el numero de iteraacciones, posiblemente el metodo no converga para x0\")\n",
    "else:\n",
    "    print(f\"La raiz mas cercana de x0 = {x0} de f(x) es r = {res}\")\n",
    "\n",
    "\n",
    "\n",
    "\n"
   ]
  }
 ],
 "metadata": {
  "colab": {
   "provenance": []
  },
  "kernelspec": {
   "display_name": "Python 3 (ipykernel)",
   "language": "python",
   "name": "python3"
  },
  "language_info": {
   "codemirror_mode": {
    "name": "ipython",
    "version": 3
   },
   "file_extension": ".py",
   "mimetype": "text/x-python",
   "name": "python",
   "nbconvert_exporter": "python",
   "pygments_lexer": "ipython3",
   "version": "3.11.5"
  }
 },
 "nbformat": 4,
 "nbformat_minor": 5
}
