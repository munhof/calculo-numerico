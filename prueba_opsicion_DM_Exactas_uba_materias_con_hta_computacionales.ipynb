{
  "cells": [
    {
      "cell_type": "markdown",
      "metadata": {
        "id": "view-in-github",
        "colab_type": "text"
      },
      "source": [
        "<a href=\"https://colab.research.google.com/github/munhof/calculo-numerico/blob/main/prueba_opsicion_DM_Exactas_uba_materias_con_hta_computacionales.ipynb\" target=\"_parent\"><img src=\"https://colab.research.google.com/assets/colab-badge.svg\" alt=\"Open In Colab\"/></a>"
      ]
    },
    {
      "cell_type": "markdown",
      "id": "6d567570-6523-45e5-8b91-066797b989eb",
      "metadata": {
        "id": "6d567570-6523-45e5-8b91-066797b989eb"
      },
      "source": [
        "# Ejercicio 1\n",
        "# Normas matriciales.\n",
        "Se quiere estimar la norma 2 de una matriz $A \\in \\mathbb{R}^{3x3}$ como el máximo del valor $\\frac{∥Ax∥_2}{∥x∥_2}$ entre varios vectores $x\\in\\mathbb{R}^3$ no nulos generadosal azar. Hacer un programa que reciba una matriz A y luego:\n",
        "\n",
        "* genere los primeros 100 términos de la siguiente sucesión:\n",
        "\\begin{equation}\n",
        "s1 = 0, sk+1 = max \\{sk, \\frac{∥Ax_k∥_2}{∥x_k∥_2}\\}\n",
        "\\end{equation}\n",
        "donde los $x_k\\in\\mathbb{R}^3$ son vectores no nulos generados al azar en la bola unitaria:\n",
        "$B = {x : ∥x∥_2 ≤ 1}$.\n",
        "\n",
        "* Grafique la sucesión calculada, junto con el valor exacto de la norma de la matriz.\n",
        "\n",
        "Recordar que la norma 2 de un vector v puede calcularse con el comando `np.linalg.norm(v)`, mientras que la norma 2 de una matriz A se puede obtener con `np.linalg.norm(A,2)`. Tener en cuenta que los vectores generados al azar (comando `np.random.random`) tienen coordenadas en el intervalo [0, 1] y por lo tanto abarcan sólo el primer octante en $\\mathbb{R}^3$"
      ]
    },
    {
      "cell_type": "code",
      "execution_count": null,
      "id": "295fb7ef-78a3-4dce-a0e6-688d41ea6203",
      "metadata": {
        "id": "295fb7ef-78a3-4dce-a0e6-688d41ea6203",
        "outputId": "288ecc7d-f53e-4cad-94dc-12f4c69a3fce"
      },
      "outputs": [
        {
          "data": {
            "image/png": "[encoded data removed]",
            "text/plain": [
              "<Figure size 640x480 with 1 Axes>"
            ]
          },
          "metadata": {},
          "output_type": "display_data"
        }
      ],
      "source": [
        "\"\"\"\n",
        "Lo primero es importar las librerias que necesitaremos\n",
        "numnpy para el trabajo matematico\n",
        "matplotlib.pyplot para los graficos\n",
        "\"\"\"\n",
        "\n",
        "import numpy as np\n",
        "import matplotlib.pyplot as plt\n",
        "\n",
        "plt.style.use('_mpl-gallery')\n",
        "\n",
        "#lo primero es armar la matriz A, para ello configuramos sus filas de largo 3\n",
        "fila1: list[int] = [1,2,3]\n",
        "fila2: list[int] = [1,1,3]\n",
        "fila3: list[int] = [1,2,1]\n",
        "\n",
        "#y armamos la matriz utilizando np.array()\n",
        "\n",
        "matriz: list[list[int]] = np.array([fila1,fila2,fila3])\n",
        "\n",
        "#como vamos a armar una sucesion de valores, vamos a utilizar un ciclo for, para ello vamos a inicializar\n",
        "#la variable donde vamos a guardar los valores de la sucesion s y tambien crear variable n una con el valor de\n",
        "#cuantos terminos debe tener la sucesion, que en este caso es 100\n",
        "\n",
        "n: int = 100\n",
        "s: list[int] = [0]*n\n",
        "#la variable s estan incializada con 0 para agilizar el guardado de datos de pyhton, esta manera de escribir crea n veces el valor indicado en la lista\n",
        "#recomendacion, probar que pasa si hacen [1,2]*10\n",
        "\n",
        "#una vez inicializado los variables necesarias para nuestro ciclo for, vamos a empezar a trabajar con el\n",
        "\n",
        "for i in range(1,n): #inicio desde el termino 1 de la sucesion porque el primero es 0\n",
        "    xk: list[float] = np.random.random(3) #genero mi vector random, para indicar la dimension del vector se lo paso como parametro\n",
        "    Axk: list[float] = matriz @ xk #hago el producto vectorial de A*xk\n",
        "    norm_2_xk: float = np.linalg.norm(xk,2) #calculo la norma del vecto xk\n",
        "    norm_2_Axk: float = np.linalg.norm(Axk,2) #calculo la norma de A*^xk\n",
        "    s[i] = max([s[i-1],norm_2_Axk/norm_2_xk]) #agrego al termino i+1 el valor maximo entre el termino i y el calculo\n",
        "\n",
        "#con la sucesion calculada, hagamos los graficos, para ello usamos matplotlib\n",
        "\n",
        "fig, ax = plt.subplots(figsize=(8, 6), dpi=80) #incializo el grafico con subplots, sirve para cuando quiero crear varios graficos en una misma imagen\n",
        "ax.grid() #agrego grillas\n",
        "ax.scatter(x= range(0,100), y= s, s=10) #la paso los datos, al pasarle una sola lista, en el eje x pondra el valor del termino de la sucesion y en el y el valor de la sucesion\n",
        "ax.set_xticks(np.arange(0, 100, 10))\n",
        "\n",
        "plt.show()"
      ]
    },
    {
      "cell_type": "markdown",
      "source": [
        "# Ejercicio2"
      ],
      "metadata": {
        "id": "pPSlI6BTbGxW"
      },
      "id": "pPSlI6BTbGxW"
    },
    {
      "cell_type": "code",
      "execution_count": null,
      "id": "76421f3d-1f91-4df3-a3ef-15bf2938578d",
      "metadata": {
        "id": "76421f3d-1f91-4df3-a3ef-15bf2938578d"
      },
      "outputs": [],
      "source": []
    }
  ],
  "metadata": {
    "kernelspec": {
      "display_name": "Python 3 (ipykernel)",
      "language": "python",
      "name": "python3"
    },
    "language_info": {
      "codemirror_mode": {
        "name": "ipython",
        "version": 3
      },
      "file_extension": ".py",
      "mimetype": "text/x-python",
      "name": "python",
      "nbconvert_exporter": "python",
      "pygments_lexer": "ipython3",
      "version": "3.11.5"
    },
    "colab": {
      "provenance": [],
      "toc_visible": true,
      "include_colab_link": true
    }
  },
  "nbformat": 4,
  "nbformat_minor": 5
}